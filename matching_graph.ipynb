{
 "cells": [
  {
   "cell_type": "markdown",
   "metadata": {},
   "source": [
    "## Wing and propulsion sizing using the matching plot technique."
   ]
  },
  {
   "cell_type": "markdown",
   "metadata": {},
   "source": [
    "\\begin{align}\n",
    "__Maxmimum velocity__\n",
    "\\frac{P}{W} = (\\frac{1}{2} Cd_p \\rho V_m^3 (\\frac{S}{W}) + \\frac{2}{\\rho \\pi AReV_m}(\\frac{W}{S}))\n",
    "\n",
    "__Stall velocity__\n",
    "V_s = \\sqrt{\\frac{2}{Cl_m \\rho} (\\frac{W}{S})}\n",
    "\n",
    "__Rate of climb__\n",
    "\\frac{P}{W} = ROC + \\frac{1}{2} Cd_p \\rho V_i^3 (\\frac{S}{W}) + \\frac{2}{\\rho \\pi AReV_i}(\\frac{W}{S})\n",
    "\\end{align}"
   ]
  },
  {
   "cell_type": "code",
   "execution_count": 1,
   "metadata": {},
   "outputs": [],
   "source": [
    "import numpy as np\n",
    "%matplotlib inline\n",
    "import matplotlib.pyplot as plt"
   ]
  },
  {
   "cell_type": "markdown",
   "metadata": {},
   "source": [
    "### Establish known constants and assumptions."
   ]
  },
  {
   "cell_type": "code",
   "execution_count": 2,
   "metadata": {},
   "outputs": [],
   "source": [
    "# Air density in kilograms per cubic meters."
   ]
  },
  {
   "cell_type": "code",
   "execution_count": 3,
   "metadata": {},
   "outputs": [],
   "source": [
    "rho = 1.225"
   ]
  },
  {
   "cell_type": "code",
   "execution_count": 4,
   "metadata": {},
   "outputs": [],
   "source": [
    "# MH-114 airfoil drag coefficient."
   ]
  },
  {
   "cell_type": "code",
   "execution_count": 5,
   "metadata": {},
   "outputs": [],
   "source": [
    "cd_airfoil = 0.02"
   ]
  },
  {
   "cell_type": "code",
   "execution_count": 6,
   "metadata": {},
   "outputs": [],
   "source": [
    "# Aircraft zero-lift drag."
   ]
  },
  {
   "cell_type": "code",
   "execution_count": 7,
   "metadata": {},
   "outputs": [],
   "source": [
    "cd_zero = 1.65*cd_airfoil"
   ]
  },
  {
   "cell_type": "code",
   "execution_count": 8,
   "metadata": {},
   "outputs": [],
   "source": [
    "# Estimate the maximum speed in meters per second."
   ]
  },
  {
   "cell_type": "code",
   "execution_count": 9,
   "metadata": {},
   "outputs": [],
   "source": [
    "v_max = 27.432"
   ]
  },
  {
   "cell_type": "code",
   "execution_count": 10,
   "metadata": {},
   "outputs": [],
   "source": [
    "# Establish Oswald's efficiency."
   ]
  },
  {
   "cell_type": "code",
   "execution_count": 11,
   "metadata": {},
   "outputs": [],
   "source": [
    "e = 0.83"
   ]
  },
  {
   "cell_type": "code",
   "execution_count": 12,
   "metadata": {},
   "outputs": [],
   "source": [
    "# Expected aspect ratio."
   ]
  },
  {
   "cell_type": "code",
   "execution_count": 13,
   "metadata": {},
   "outputs": [],
   "source": [
    "ar = 8"
   ]
  },
  {
   "cell_type": "code",
   "execution_count": 14,
   "metadata": {},
   "outputs": [],
   "source": [
    "# Set a range of anticipated wing loading values in Newtons per meters squared."
   ]
  },
  {
   "cell_type": "code",
   "execution_count": 15,
   "metadata": {},
   "outputs": [],
   "source": [
    "w_s = np.arange(25, 125, 1)"
   ]
  },
  {
   "cell_type": "code",
   "execution_count": 16,
   "metadata": {},
   "outputs": [],
   "source": [
    "# Set of conservative coefficient of lift values."
   ]
  },
  {
   "cell_type": "code",
   "execution_count": 17,
   "metadata": {},
   "outputs": [],
   "source": [
    "cl = np.arange(0.9, 1.3, 0.1)"
   ]
  },
  {
   "cell_type": "code",
   "execution_count": 18,
   "metadata": {},
   "outputs": [],
   "source": [
    "# A minimal ROC is 300 feet per minute, and the recommended overall ROC is 600 feet per minute. "
   ]
  },
  {
   "cell_type": "code",
   "execution_count": 19,
   "metadata": {},
   "outputs": [],
   "source": [
    "roc = np.linspace(3.048, 4.8768, 4)"
   ]
  },
  {
   "cell_type": "code",
   "execution_count": 20,
   "metadata": {},
   "outputs": [],
   "source": [
    "# Set the minimal velocity in meters per second."
   ]
  },
  {
   "cell_type": "code",
   "execution_count": 21,
   "metadata": {},
   "outputs": [],
   "source": [
    "v = 3.048"
   ]
  },
  {
   "cell_type": "code",
   "execution_count": 22,
   "metadata": {},
   "outputs": [],
   "source": [
    "# Set the stall velocity in meters per second."
   ]
  },
  {
   "cell_type": "code",
   "execution_count": 23,
   "metadata": {},
   "outputs": [],
   "source": [
    "v_stall = 10.668"
   ]
  },
  {
   "cell_type": "markdown",
   "metadata": {},
   "source": [
    "### Perform the calculations."
   ]
  },
  {
   "cell_type": "code",
   "execution_count": 24,
   "metadata": {},
   "outputs": [],
   "source": [
    "# Calculating the maximum velocity."
   ]
  },
  {
   "cell_type": "code",
   "execution_count": 25,
   "metadata": {},
   "outputs": [],
   "source": [
    "w_p_v_max = ((1 / 2) * cd_zero * rho * ((v_max)**3) * (1 / w_s) + (2 * w_s) / (rho * np.pi * ar * e * v_max))**(-1)"
   ]
  },
  {
   "cell_type": "code",
   "execution_count": 26,
   "metadata": {},
   "outputs": [],
   "source": [
    "# Calculating the rate of climb."
   ]
  },
  {
   "cell_type": "code",
   "execution_count": 27,
   "metadata": {},
   "outputs": [],
   "source": [
    "w_p_roc = (roc.reshape(1, roc.shape[0]) + (1 / 2) * cd_zero * rho * (v**3) * (1 / w_s.reshape(w_s.shape[0], 1)) + (2 * w_s.reshape(w_s.shape[0], 1)) / (rho * np.pi * ar * e * v))**(-1)"
   ]
  },
  {
   "cell_type": "code",
   "execution_count": 28,
   "metadata": {},
   "outputs": [],
   "source": [
    "# Calculating the stall velocity."
   ]
  },
  {
   "cell_type": "code",
   "execution_count": 29,
   "metadata": {},
   "outputs": [],
   "source": [
    "w_s_stall = ((v_stall**2) * cl * rho) / 2"
   ]
  },
  {
   "cell_type": "markdown",
   "metadata": {},
   "source": [
    "### Plot the results."
   ]
  },
  {
   "cell_type": "code",
   "execution_count": 30,
   "metadata": {},
   "outputs": [
    {
     "data": {
      "image/png": "[encoded data removed]",
      "text/plain": [
       "<Figure size 864x432 with 1 Axes>"
      ]
     },
     "metadata": {
      "needs_background": "light"
     },
     "output_type": "display_data"
    }
   ],
   "source": [
    "plt.figure(figsize=(12, 6))\n",
    "plt.plot(w_s, w_p_v_max)\n",
    "plt.plot(w_s, w_p_roc)\n",
    "plt.ylabel('Power Loading (N/W)')\n",
    "plt.xlabel('Wing Loading (Pa)')\n",
    "plt.axvline(w_s_stall[0], color='blue', linestyle='--')\n",
    "plt.axvline(w_s_stall[1],  color='orange', linestyle='--')\n",
    "plt.axvline(w_s_stall[2],  color='green', linestyle='--')\n",
    "plt.axvline(w_s_stall[3], color='red', linestyle='--')\n",
    "plt.legend(bbox_to_anchor=(1.05, 1), loc='upper left', borderaxespad=0., labels=['Max. Velocity', \n",
    "                                                                                 'ROC=10 ft/s', \n",
    "                                                                                 'ROC=12 ft/s', \n",
    "                                                                                 'ROC=14 ft/s', \n",
    "                                                                                 'ROC=16 ft/s', \n",
    "                                                                                 'Cl=0.9', \n",
    "                                                                                 'Cl=1.0', \n",
    "                                                                                 'Cl=1.1', \n",
    "                                                                                 'Cl=1.2'])\n",
    "plt.title('Matching Graph')\n",
    "plt.show()"
   ]
  }
 ],
 "metadata": {
  "kernelspec": {
   "display_name": "Python 3",
   "language": "python",
   "name": "python3"
  },
  "language_info": {
   "codemirror_mode": {
    "name": "ipython",
    "version": 3
   },
   "file_extension": ".py",
   "mimetype": "text/x-python",
   "name": "python",
   "nbconvert_exporter": "python",
   "pygments_lexer": "ipython3",
   "version": "3.7.3"
  }
 },
 "nbformat": 4,
 "nbformat_minor": 2
}
