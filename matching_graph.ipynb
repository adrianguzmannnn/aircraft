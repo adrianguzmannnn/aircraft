{
 "cells": [
  {
   "cell_type": "markdown",
   "metadata": {},
   "source": [
    "# This file contains software for preliminary aircraft design developed by Adrian Guzman.\n",
    "***"
   ]
  },
  {
   "cell_type": "markdown",
   "metadata": {},
   "source": [
    "The following equations are used to determine wing sizing and power specifications of an aircraft.\n",
    "\n",
    "1. Maximum Velocity\n",
    "2. Stall Velocity\n",
    "3. Rate of Climb"
   ]
  },
  {
   "cell_type": "markdown",
   "metadata": {},
   "source": [
    "\\begin{align}\n",
    "\\frac{P}{W} = (\\frac{1}{2} Cd_p \\rho V_m^3 (\\frac{S}{W}) + \\frac{2}{\\rho \\pi AReV_m}(\\frac{W}{S}))\n",
    "\\end{align}\n",
    "\n",
    "\\begin{align}\n",
    "V_s = \\sqrt{ \\frac{2}{Cl_m \\rho} (\\frac{W}{S}) }\n",
    "\\end{align}\n",
    "\n",
    "\\begin{align}\n",
    "\\frac{P}{W} = ROC + \\frac{1}{2} Cd_p \\rho V_i^3 (\\frac{S}{W}) + \\frac{2}{\\rho \\pi AReV_i}(\\frac{W}{S})\n",
    "\\end{align}"
   ]
  },
  {
   "cell_type": "code",
   "execution_count": 138,
   "metadata": {},
   "outputs": [],
   "source": [
    "import numpy as np\n",
    "import matplotlib.pyplot as plt"
   ]
  },
  {
   "cell_type": "code",
   "execution_count": 139,
   "metadata": {},
   "outputs": [],
   "source": [
    "# Begin by establishing known constants and assumptions."
   ]
  },
  {
   "cell_type": "code",
   "execution_count": 140,
   "metadata": {},
   "outputs": [],
   "source": [
    "# Air density in kilograms per cubic meters."
   ]
  },
  {
   "cell_type": "code",
   "execution_count": 141,
   "metadata": {},
   "outputs": [],
   "source": [
    "rho = 1.225"
   ]
  },
  {
   "cell_type": "code",
   "execution_count": 142,
   "metadata": {},
   "outputs": [],
   "source": [
    "# MH-114 airfoil drag coefficient."
   ]
  },
  {
   "cell_type": "code",
   "execution_count": 143,
   "metadata": {},
   "outputs": [],
   "source": [
    "cd_airfoil = 0.02"
   ]
  },
  {
   "cell_type": "code",
   "execution_count": 144,
   "metadata": {},
   "outputs": [],
   "source": [
    "# Aircraft zero-lift drag."
   ]
  },
  {
   "cell_type": "code",
   "execution_count": 145,
   "metadata": {},
   "outputs": [],
   "source": [
    "cd_zero = 1.65*cd_airfoil"
   ]
  },
  {
   "cell_type": "code",
   "execution_count": 146,
   "metadata": {},
   "outputs": [],
   "source": [
    "# Estimate the maximum speed in meters per second."
   ]
  },
  {
   "cell_type": "code",
   "execution_count": 147,
   "metadata": {},
   "outputs": [],
   "source": [
    "v_max = 27.432"
   ]
  },
  {
   "cell_type": "code",
   "execution_count": 148,
   "metadata": {},
   "outputs": [],
   "source": [
    "# Establish Oswald's efficiency."
   ]
  },
  {
   "cell_type": "code",
   "execution_count": 149,
   "metadata": {},
   "outputs": [],
   "source": [
    "e = 0.83"
   ]
  },
  {
   "cell_type": "code",
   "execution_count": 150,
   "metadata": {},
   "outputs": [],
   "source": [
    "# Establish the expected aspect ratio."
   ]
  },
  {
   "cell_type": "code",
   "execution_count": 151,
   "metadata": {},
   "outputs": [],
   "source": [
    "ar = 8"
   ]
  },
  {
   "cell_type": "code",
   "execution_count": 152,
   "metadata": {},
   "outputs": [],
   "source": [
    "# Initialize a range of anticipated wing loading values in Newtons per meters squared."
   ]
  },
  {
   "cell_type": "code",
   "execution_count": 153,
   "metadata": {},
   "outputs": [],
   "source": [
    "w_s = np.arange(25, 125, 1)"
   ]
  },
  {
   "cell_type": "code",
   "execution_count": 154,
   "metadata": {},
   "outputs": [],
   "source": [
    "# Initialize a set of conservative coefficient of lift values."
   ]
  },
  {
   "cell_type": "code",
   "execution_count": 155,
   "metadata": {},
   "outputs": [],
   "source": [
    "cl = np.arange(0.9, 1.3, 0.1)"
   ]
  },
  {
   "cell_type": "code",
   "execution_count": 156,
   "metadata": {},
   "outputs": [],
   "source": [
    "# A minimal ROC is 300 feet per minute, and the recommended overall ROC is 600 feet per minute. "
   ]
  },
  {
   "cell_type": "code",
   "execution_count": 157,
   "metadata": {},
   "outputs": [],
   "source": [
    "roc = np.linspace(3.048, 4.8768, 4)"
   ]
  },
  {
   "cell_type": "code",
   "execution_count": 158,
   "metadata": {},
   "outputs": [],
   "source": [
    "# Set the minimal velocity in meters per second."
   ]
  },
  {
   "cell_type": "code",
   "execution_count": 159,
   "metadata": {},
   "outputs": [],
   "source": [
    "v = 3.048"
   ]
  },
  {
   "cell_type": "code",
   "execution_count": 160,
   "metadata": {},
   "outputs": [],
   "source": [
    "# Set the stall velocity meters per second."
   ]
  },
  {
   "cell_type": "code",
   "execution_count": 161,
   "metadata": {},
   "outputs": [],
   "source": [
    "v_stall = 10.668"
   ]
  },
  {
   "cell_type": "code",
   "execution_count": 162,
   "metadata": {},
   "outputs": [],
   "source": [
    "# Calculating the maximum velocity."
   ]
  },
  {
   "cell_type": "code",
   "execution_count": 163,
   "metadata": {},
   "outputs": [],
   "source": [
    "w_p_v_max = ((1/2)*cd_zero*rho*((v_max)**3)*(1/w_s)+(2*w_s)/(rho*np.pi*ar*e*v_max))**(-1)"
   ]
  },
  {
   "cell_type": "code",
   "execution_count": 164,
   "metadata": {},
   "outputs": [],
   "source": [
    "# Calculating the rate of climb."
   ]
  },
  {
   "cell_type": "code",
   "execution_count": 165,
   "metadata": {},
   "outputs": [],
   "source": [
    "w_p_roc = (roc.reshape(1, roc.shape[0]) + (1/2)*cd_zero*rho*(v**3)*(1/w_s.reshape(w_s.shape[0], 1))+(2*w_s.reshape(w_s.shape[0], 1))/(rho*np.pi*ar*e*v))**(-1)"
   ]
  },
  {
   "cell_type": "code",
   "execution_count": 166,
   "metadata": {},
   "outputs": [],
   "source": [
    "# Calculating the stall velocity."
   ]
  },
  {
   "cell_type": "code",
   "execution_count": 167,
   "metadata": {},
   "outputs": [],
   "source": [
    "w_s_stall = ((v_stall**2)*cl*rho)/2"
   ]
  },
  {
   "cell_type": "code",
   "execution_count": 168,
   "metadata": {},
   "outputs": [
    {
     "data": {
      "image/png": "[encoded data removed]",
      "text/plain": [
       "<Figure size 432x288 with 1 Axes>"
      ]
     },
     "metadata": {
      "needs_background": "light"
     },
     "output_type": "display_data"
    }
   ],
   "source": [
    "plt.plot(w_s, w_p_v_max), plt.plot(w_s, w_p_roc), plt.ylabel('Power Loading (N/W)'), plt.xlabel('Wing Loading (Pa)'), plt.axvline(w_s_stall[0], color='blue', linestyle='--'), plt.axvline(w_s_stall[1],  color='orange', linestyle='--'),  plt.axvline(w_s_stall[2],  color='green', linestyle='--'),  plt.axvline(w_s_stall[3], color='red', linestyle='--'), plt.legend(loc='upper right', fontsize='small', labels=['Max. Velocity', 'ROC=10 ft/s', 'ROC=12 ft/s', 'ROC=14 ft/s', 'ROC=16 ft/s', 'Cl=0.9', 'Cl=1.0', 'Cl=1.1', 'Cl=1.2'])\n",
    "plt.show()"
   ]
  },
  {
   "cell_type": "code",
   "execution_count": null,
   "metadata": {},
   "outputs": [],
   "source": []
  }
 ],
 "metadata": {
  "kernelspec": {
   "display_name": "Python 3",
   "language": "python",
   "name": "python3"
  },
  "language_info": {
   "codemirror_mode": {
    "name": "ipython",
    "version": 3
   },
   "file_extension": ".py",
   "mimetype": "text/x-python",
   "name": "python",
   "nbconvert_exporter": "python",
   "pygments_lexer": "ipython3",
   "version": "3.7.3"
  }
 },
 "nbformat": 4,
 "nbformat_minor": 2
}
